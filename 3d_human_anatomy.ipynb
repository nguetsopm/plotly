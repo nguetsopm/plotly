{
  "nbformat": 4,
  "nbformat_minor": 5,
  "metadata": {
    "jupytext": {
      "notebook_metadata_filter": "all",
      "text_representation": {
        "extension": ".md",
        "format_name": "markdown",
        "format_version": "1.3",
        "jupytext_version": "1.13.1"
      }
    },
    "kernelspec": {
      "display_name": "Python 3 (ipykernel)",
      "language": "python",
      "name": "python3"
    },
    "language_info": {
      "codemirror_mode": {
        "name": "ipython",
        "version": 3
      },
      "file_extension": ".py",
      "mimetype": "text/x-python",
      "name": "python",
      "nbconvert_exporter": "python",
      "pygments_lexer": "ipython3",
      "version": "3.7.10"
    },
    "plotly": {
      "description": "How to make 3D Isosurface Plots in Python with Plotly.",
      "display_as": "3d_charts",
      "language": "python",
      "layout": "base",
      "name": "3D Isosurface Plots",
      "order": 10,
      "page_type": "u-guide",
      "permalink": "python/3d-isosurface-plots/",
      "redirect_from": "python/isosurfaces-with-marching-cubes/",
      "thumbnail": "thumbnail/isosurface.jpg"
    },
    "colab": {
      "name": "3d-isosurface-plots.ipynb",
      "provenance": [],
      "include_colab_link": true
    }
  },
  "cells": [
    {
      "cell_type": "markdown",
      "metadata": {
        "id": "view-in-github",
        "colab_type": "text"
      },
      "source": [
        "<a href=\"https://colab.research.google.com/github/nguetsopm/plotly/blob/main/3d_human_anatomy.ipynb\" target=\"_parent\"><img src=\"https://colab.research.google.com/assets/colab-badge.svg\" alt=\"Open In Colab\"/></a>"
      ]
    },
    {
      "cell_type": "markdown",
      "metadata": {
        "id": "d39ce5c1"
      },
      "source": [
        "With ``go.Isosurface``, you can plot [isosurface contours](https://en.wikipedia.org/wiki/Isosurface) of a scalar field ``value``, which is defined on ``x``, ``y`` and ``z`` coordinates.\n",
        "\n",
        "#### Basic Isosurface\n",
        "\n",
        "In this first example, we plot the isocontours of values ``isomin=2`` and ``isomax=6``. In addition, portions of the sides of the coordinate domains for which the value is between ``isomin`` and ``isomax`` (named the ``caps``) are colored. Please rotate the figure to visualize both the internal surfaces and the caps surfaces on the sides."
      ],
      "id": "d39ce5c1"
    },
    {
      "cell_type": "code",
      "metadata": {
        "id": "6b814c0f"
      },
      "source": [
        "import plotly.graph_objects as go\n",
        "\n",
        "fig= go.Figure(data=go.Isosurface(\n",
        "    x=[0,0,0,0,1,1,1,1],\n",
        "    y=[1,0,1,0,1,0,1,0],\n",
        "    z=[1,1,0,0,1,1,0,0],\n",
        "    value=[1,2,3,4,5,6,7,8],\n",
        "    isomin=2,\n",
        "    isomax=6,\n",
        "))\n",
        "\n",
        "fig.show()"
      ],
      "id": "6b814c0f",
      "execution_count": null,
      "outputs": []
    },
    {
      "cell_type": "markdown",
      "metadata": {
        "id": "31988fec"
      },
      "source": [
        "### Removing caps when visualizing isosurfaces\n",
        "\n",
        "For a clearer visualization of internal surfaces, it is possible to remove the caps (color-coded surfaces on the sides of the visualization domain). Caps are visible by default."
      ],
      "id": "31988fec"
    },
    {
      "cell_type": "code",
      "metadata": {
        "id": "336f189e"
      },
      "source": [
        "import plotly.graph_objects as go\n",
        "import numpy as np\n",
        "\n",
        "X, Y, Z = np.mgrid[-5:5:40j, -5:5:40j, -5:5:40j]\n",
        "\n",
        "# ellipsoid\n",
        "values = X * X * 0.85 * X + Y * Y + Z * Z * 2\n",
        "\n",
        "fig = go.Figure(data=go.Isosurface(\n",
        "    x=X.flatten(),\n",
        "    y=Y.flatten(),\n",
        "    z=Z.flatten(),\n",
        "    value=values.flatten(),\n",
        "    isomin=10,\n",
        "    isomax=40,\n",
        "    caps=dict(x_show=False, y_show=False)\n",
        "    ))\n",
        "fig.show()"
      ],
      "id": "336f189e",
      "execution_count": null,
      "outputs": []
    },
    {
      "cell_type": "markdown",
      "metadata": {
        "id": "5c50f91d"
      },
      "source": [
        "### Modifying the number of isosurfaces"
      ],
      "id": "5c50f91d"
    },
    {
      "cell_type": "code",
      "metadata": {
        "id": "1107c38b"
      },
      "source": [
        "import plotly.graph_objects as go\n",
        "import numpy as np\n",
        "\n",
        "X, Y, Z = np.mgrid[-5:5:40j, -5:5:40j, -5:5:40j]\n",
        "\n",
        "# ellipsoid\n",
        "values = X * X * 0.5 + Y * Y + Z * Z * 2\n",
        "\n",
        "fig = go.Figure(data=go.Isosurface(\n",
        "    x=X.flatten(),\n",
        "    y=Y.flatten(),\n",
        "    z=Z.flatten(),\n",
        "    value=values.flatten(),\n",
        "    isomin=10,\n",
        "    isomax=50,\n",
        "    surface_count=5, # number of isosurfaces, 2 by default: only min and max\n",
        "    colorbar_nticks=5, # colorbar ticks correspond to isosurface values\n",
        "    caps=dict(x_show=False, y_show=False)\n",
        "    ))\n",
        "fig.show()"
      ],
      "id": "1107c38b",
      "execution_count": null,
      "outputs": []
    },
    {
      "cell_type": "markdown",
      "metadata": {
        "id": "b67c8c46"
      },
      "source": [
        "### Changing the opacity of isosurfaces"
      ],
      "id": "b67c8c46"
    },
    {
      "cell_type": "code",
      "metadata": {
        "id": "7e249365"
      },
      "source": [
        "import plotly.graph_objects as go\n",
        "import numpy as np\n",
        "\n",
        "X, Y, Z = np.mgrid[-5:5:40j, -5:5:40j, -5:5:40j]\n",
        "\n",
        "# ellipsoid\n",
        "values = X * X * 0.5 + Y * Y + Z * Z * 2\n",
        "\n",
        "fig = go.Figure(data=go.Isosurface(\n",
        "    x=X.flatten(),\n",
        "    y=Y.flatten(),\n",
        "    z=Z.flatten(),\n",
        "    value=values.flatten(),\n",
        "    opacity=0.6,\n",
        "    isomin=10,\n",
        "    isomax=50,\n",
        "    surface_count=3,\n",
        "    caps=dict(x_show=False, y_show=False)\n",
        "    ))\n",
        "fig.show()"
      ],
      "id": "7e249365",
      "execution_count": null,
      "outputs": []
    },
    {
      "cell_type": "markdown",
      "metadata": {
        "id": "ea67793a"
      },
      "source": [
        "#### Isosurface with Additional Slices\n",
        "\n",
        "Here we visualize slices parallel to the axes on top of isosurfaces. For a clearer visualization, the `fill` ratio of isosurfaces is decreased below 1 (completely filled)."
      ],
      "id": "ea67793a"
    },
    {
      "cell_type": "code",
      "metadata": {
        "id": "cbcb80e4"
      },
      "source": [
        "import plotly.graph_objects as go\n",
        "import numpy as np\n",
        "\n",
        "X, Y, Z = np.mgrid[-5:5:40j, -5:5:40j, -5:5:40j]\n",
        "\n",
        "# ellipsoid\n",
        "values = X * X * 0.5 + Y * Y + Z * Z * 2\n",
        "\n",
        "fig = go.Figure(data=go.Isosurface(\n",
        "    x=X.flatten(),\n",
        "    y=Y.flatten(),\n",
        "    z=Z.flatten(),\n",
        "    value=values.flatten(),\n",
        "    isomin=5,\n",
        "    isomax=50,\n",
        "    surface_fill=0.4,\n",
        "    caps=dict(x_show=False, y_show=False),\n",
        "    slices_z=dict(show=True, locations=[-1, -3,]),\n",
        "    slices_y=dict(show=True, locations=[0]),\n",
        "    ))\n",
        "fig.show()"
      ],
      "id": "cbcb80e4",
      "execution_count": null,
      "outputs": []
    },
    {
      "cell_type": "markdown",
      "metadata": {
        "id": "9ac73d54"
      },
      "source": [
        "#### Multiple Isosurfaces with Caps"
      ],
      "id": "9ac73d54"
    },
    {
      "cell_type": "code",
      "metadata": {
        "id": "6195dc1c"
      },
      "source": [
        "import plotly.graph_objects as go\n",
        "import numpy as np\n",
        "\n",
        "X, Y, Z = np.mgrid[-5:5:40j, -5:5:40j, 0:5:20j]\n",
        "\n",
        "values = X * X * 0.5 + Y * Y + Z * Z * 2\n",
        "\n",
        "fig = go.Figure(data=go.Isosurface(\n",
        "    x=X.flatten(),\n",
        "    y=Y.flatten(),\n",
        "    z=Z.flatten(),\n",
        "    value=values.flatten(),\n",
        "    isomin=30,\n",
        "    isomax=50,\n",
        "    surface=dict(count=3, fill=0.7, pattern='odd'),\n",
        "    caps=dict(x_show=True, y_show=True),\n",
        "    ))\n",
        "fig.show()"
      ],
      "id": "6195dc1c",
      "execution_count": null,
      "outputs": []
    },
    {
      "cell_type": "markdown",
      "metadata": {
        "id": "1eedd04b"
      },
      "source": [
        "### Changing the default colorscale of isosurfaces"
      ],
      "id": "1eedd04b"
    },
    {
      "cell_type": "code",
      "metadata": {
        "id": "c5df2c3c"
      },
      "source": [
        "import plotly.graph_objects as go\n",
        "import numpy as np\n",
        "\n",
        "X, Y, Z = np.mgrid[-5:5:40j, -5:5:40j, -5:5:40j]\n",
        "\n",
        "# ellipsoid\n",
        "values = X * X * 0.5 + Y * Y + Z * Z * 2\n",
        "\n",
        "fig = go.Figure(data=go.Isosurface(\n",
        "    x=X.flatten(),\n",
        "    y=Y.flatten(),\n",
        "    z=Z.flatten(),\n",
        "    value=values.flatten(),\n",
        "    colorscale='BlueRed',\n",
        "    isomin=10,\n",
        "    isomax=50,\n",
        "    surface_count=3,\n",
        "    caps=dict(x_show=False, y_show=False)\n",
        "    ))\n",
        "fig.show()"
      ],
      "id": "c5df2c3c",
      "execution_count": null,
      "outputs": []
    },
    {
      "cell_type": "markdown",
      "metadata": {
        "id": "f9702e39"
      },
      "source": [
        "### Customizing the layout and appearance of isosurface plots"
      ],
      "id": "f9702e39"
    },
    {
      "cell_type": "code",
      "metadata": {
        "id": "783cfb81"
      },
      "source": [
        "import plotly.graph_objects as go\n",
        "import numpy as np\n",
        "\n",
        "X, Y, Z = np.mgrid[-5:5:40j, -5:5:40j, 0:5:20j]\n",
        "\n",
        "values = X * X * 0.5 + Y * Y + Z * Z * 2\n",
        "\n",
        "fig = go.Figure(data=go.Isosurface(\n",
        "    x=X.flatten(),\n",
        "    y=Y.flatten(),\n",
        "    z=Z.flatten(),\n",
        "    value=values.flatten(),\n",
        "    isomin=30,\n",
        "    isomax=50,\n",
        "    surface=dict(count=3, fill=0.7, pattern='odd'),\n",
        "    showscale=False, # remove colorbar\n",
        "    caps=dict(x_show=True, y_show=True),\n",
        "    ))\n",
        "\n",
        "fig.update_layout(\n",
        "    margin=dict(t=0, l=0, b=0), # tight layout\n",
        "    scene_camera_eye=dict(x=1.86, y=0.61, z=0.98))\n",
        "fig.show()"
      ],
      "id": "783cfb81",
      "execution_count": null,
      "outputs": []
    },
    {
      "cell_type": "markdown",
      "metadata": {
        "id": "796bd3d9"
      },
      "source": [
        "#### Reference\n",
        "See https://plotly.com/python/reference/isosurface/ for more information and chart attribute options!"
      ],
      "id": "796bd3d9"
    }
  ]
}